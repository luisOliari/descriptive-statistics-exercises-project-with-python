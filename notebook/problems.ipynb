{
    "cells": [
        {
            "cell_type": "markdown",
            "id": "ac622319",
            "metadata": {},
            "source": [
                "# Descriptive Statistics Problems"
            ]
        },
        {
            "cell_type": "markdown",
            "id": "aa8993e4",
            "metadata": {},
            "source": [
                "### Exercise 1"
            ]
        },
        {
            "cell_type": "markdown",
            "id": "5e0ab0d5",
            "metadata": {},
            "source": [
                "As right now, you are familliar with numpy, we are going to use numpy to get some data statistics.\n",
                "\n",
                "First, lets create an array of 20 elements distributed normally (Gaussian):\n",
                "\n",
                "Use the np.random.normal function to create some data, using 0,1,20 as parameters because we want a one dimentional array of 20 numbers distributed normally (Gaussian)"
            ]
        },
        {
            "cell_type": "code",
            "execution_count": 8,
            "id": "34720ab6",
            "metadata": {},
            "outputs": [
                {
                    "name": "stdout",
                    "output_type": "stream",
                    "text": [
                        "[-0.98691743  0.86688826  0.86512946  1.4683058  -0.55229247  0.13260808\n",
                        " -2.58761337  0.17674467 -0.32350058  1.94373218  0.70034349  0.1377437\n",
                        " -2.13657696  0.92384691  0.18649105  1.27298152 -1.37422169 -0.45405861\n",
                        " -1.74399026 -0.96574981]\n"
                    ]
                }
            ],
            "source": [
                "#import libraries\n",
                "import numpy as np\n",
                "\n",
                "# Set seed in order to get similar results\n",
                "np.random.seed(320)\n",
                "\n",
                "# create the data\n",
                "vector = np.random.normal(0,1,20)\n",
                "\n",
                "#print results\n",
                "print(vector)"
            ]
        },
        {
            "cell_type": "code",
            "execution_count": 9,
            "id": "49c55822",
            "metadata": {},
            "outputs": [
                {
                    "data": {
                        "text/plain": [
                            "-0.12250530342544592"
                        ]
                    },
                    "execution_count": 9,
                    "metadata": {},
                    "output_type": "execute_result"
                }
            ],
            "source": [
                "#Use numpy to get the mean of your data\n",
                "np.mean(vector)\n"
            ]
        },
        {
            "cell_type": "code",
            "execution_count": 10,
            "id": "03529459",
            "metadata": {},
            "outputs": [
                {
                    "data": {
                        "text/plain": [
                            "1.4457030366241943"
                        ]
                    },
                    "execution_count": 10,
                    "metadata": {},
                    "output_type": "execute_result"
                }
            ],
            "source": [
                "#get the variance of your data\n",
                "np.var(vector)"
            ]
        },
        {
            "cell_type": "code",
            "execution_count": 11,
            "id": "e53f30c5",
            "metadata": {},
            "outputs": [
                {
                    "data": {
                        "text/plain": [
                            "1.2023739171423315"
                        ]
                    },
                    "execution_count": 11,
                    "metadata": {},
                    "output_type": "execute_result"
                }
            ],
            "source": [
                "# Standard deviation\n",
                "np.std(vector)"
            ]
        },
        {
            "cell_type": "code",
            "execution_count": 12,
            "id": "9bce852f",
            "metadata": {},
            "outputs": [
                {
                    "name": "stdout",
                    "output_type": "stream",
                    "text": [
                        "ModeResult(mode=array([-2.58761337]), count=array([1]))\n"
                    ]
                }
            ],
            "source": [
                "#import libraries and print the mode\n",
                "from scipy import stats\n",
                "\n",
                "# Mode for continuous array\n",
                "print(stats.mode(vector))"
            ]
        },
        {
            "cell_type": "code",
            "execution_count": 13,
            "id": "c682cb6e",
            "metadata": {},
            "outputs": [
                {
                    "data": {
                        "text/plain": [
                            "0.13517588746308445"
                        ]
                    },
                    "execution_count": 13,
                    "metadata": {},
                    "output_type": "execute_result"
                }
            ],
            "source": [
                "# Median\n",
                "np.median(vector)"
            ]
        },
        {
            "cell_type": "code",
            "execution_count": 14,
            "id": "39c3fabd",
            "metadata": {},
            "outputs": [
                {
                    "name": "stdout",
                    "output_type": "stream",
                    "text": [
                        "Q1 quantile of vector: -0.9710417168735663\n",
                        "Q2 quantile of vector: 0.13517588746308445\n",
                        "Q3 quantile of vector: 0.8655691620895445\n",
                        "Max of vector: 1.9437321810825312\n"
                    ]
                }
            ],
            "source": [
                "# Print the Quantiles\n",
                "print(\"Q1 quantile of vector:\", np.quantile(vector, .25))\n",
                "print(\"Q2 quantile of vector:\", np.quantile(vector, .5))\n",
                "print(\"Q3 quantile of vector:\", np.quantile(vector, .75))\n",
                "print(\"Max of vector:\", np.quantile(vector, 1))\n",
                "\n",
                "# This match with np.median, why?\n",
                "\n",
                "# porque el \"Quantile Q2\" acumula el 50% de la probabilidad, y esa es la definición de la media."
            ]
        },
        {
            "cell_type": "markdown",
            "id": "46c70c3d",
            "metadata": {},
            "source": [
                "### Exercise 2\n",
                "\n",
                "Write a Python program to calculate the standard deviation of the following data:\n",
                "```py\n",
                "data = [4, 2, 5, 8, 6]\n",
                "```"
            ]
        },
        {
            "cell_type": "code",
            "execution_count": 17,
            "id": "d590308e",
            "metadata": {},
            "outputs": [
                {
                    "name": "stdout",
                    "output_type": "stream",
                    "text": [
                        "[4, 2, 5, 8, 6]\n"
                    ]
                },
                {
                    "data": {
                        "text/plain": [
                            "2.23606797749979"
                        ]
                    },
                    "execution_count": 17,
                    "metadata": {},
                    "output_type": "execute_result"
                }
            ],
            "source": [
                "#import libraries:\n",
                "import math\n",
                "import sys\n",
                "\n",
                "# print data: \n",
                "data = [4,2,5,8,6]\n",
                "print(data)\n",
                "\n",
                "#Define the average function\n",
                "def avg_calc(data):\n",
                "    result = sum(data)/len(data)\n",
                "    return result\n",
                "\n",
                "# Define the standard deviation function\n",
                "def sd_calc(data):\n",
                "    result = math.sqrt(sum([(i-avg_calc(data))**2 for i in list(data)])/(len(data)-1))\n",
                "    return result\n",
                "\n",
                "#print the standard deviation of the data\n",
                "sd_calc(data)"
            ]
        },
        {
            "cell_type": "markdown",
            "id": "04b71791",
            "metadata": {},
            "source": [
                "Source:\n",
                "\n",
                "https://www.w3resource.com/"
            ]
        }
    ],
    "metadata": {
        "kernelspec": {
            "display_name": "Python 3.8.13 64-bit ('3.8.13')",
            "language": "python",
            "name": "python3"
        },
        "language_info": {
            "codemirror_mode": {
                "name": "ipython",
                "version": 3
            },
            "file_extension": ".py",
            "mimetype": "text/x-python",
            "name": "python",
            "nbconvert_exporter": "python",
            "pygments_lexer": "ipython3",
            "version": "3.8.13"
        },
        "vscode": {
            "interpreter": {
                "hash": "110cc1dee26208153f2972f08a2ad52b6a56238dc66d48e87fb757ef2996db56"
            }
        }
    },
    "nbformat": 4,
    "nbformat_minor": 5
}
